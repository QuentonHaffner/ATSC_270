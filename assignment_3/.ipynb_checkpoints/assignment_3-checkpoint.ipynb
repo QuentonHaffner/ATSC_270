{
 "cells": [
  {
   "cell_type": "markdown",
   "id": "bd61f82f",
   "metadata": {},
   "source": [
    "# ASSIGNMENT #3 - ATMOSPHERIC SOUNDINGS #\n",
    "Due: 04 March 2023 @ 11:59p"
   ]
  },
  {
   "cell_type": "markdown",
   "id": "816b3dd4",
   "metadata": {},
   "source": [
    "Purpose:\\\n",
    "The purpose of this assignment is to continue to strengthen skills with reading in data and begin to familiarize with plotting data on standard plots, skew-t log-p diagrams and hodographs.\n",
    "\n",
    "Overview:\\\n",
    "In this assignment you will read in atmospheric sounding data and plot that data using several methods.\n",
    "\n",
    "\n",
    "| | UPDATE TO YOUR INFORMATION | \n",
    "| :- | :- |\n",
    "| Created By | Jared W. Marquis |\n",
    "| Creation Date | 17 January 2024 |\n",
    "| Course | ATSC 270 - Computer Concepts in Meteorology |"
   ]
  },
  {
   "cell_type": "code",
   "execution_count": 15,
   "id": "eb870142",
   "metadata": {},
   "outputs": [],
   "source": [
    "### UPDATE TO YOUR INFORMATION ###\n",
    "#information allowing anyone with the code to print the author and contact information\n",
    "__author__    = \"Jared W. Marquis\"\n",
    "__contact__   = \"jared.marquis@und.edu\""
   ]
  },
  {
   "cell_type": "markdown",
   "id": "7dec3f1b",
   "metadata": {},
   "source": [
    "### IMPORT REQUIRED LIBRARIES ###"
   ]
  },
  {
   "cell_type": "code",
   "execution_count": 16,
   "id": "b4b5cb45",
   "metadata": {},
   "outputs": [],
   "source": [
    "import numpy as np\n",
    "import metpy.calc as mpcalc\n",
    "from metpy.units import units\n",
    "from metpy.plots import Hodograph, SkewT\n",
    "import pandas as pd\n",
    "import matplotlib.pyplot as plt\n",
    "import matplotlib.gridspec as gridspec"
   ]
  },
  {
   "cell_type": "markdown",
   "id": "1df8fe8f",
   "metadata": {},
   "source": [
    "### OPEN SOUNDING CSV FILE ###\n",
    "Open the CSV file you created last lab.  Make sure to copy it into this directory."
   ]
  },
  {
   "cell_type": "code",
   "execution_count": 17,
   "id": "808daf73",
   "metadata": {},
   "outputs": [
    {
     "name": "stdout",
     "output_type": "stream",
     "text": [
      "    pressure[mb]  height[m]  temperature[degC]  dewpoint[degC]  u-wind[m/s]  \\\n",
      "0         1000.0      355.0                NaN             NaN          NaN   \n",
      "1          959.0      649.0              -25.3           -28.8          NaN   \n",
      "2          949.0      726.0              -24.1           -27.6          NaN   \n",
      "3          936.0      826.0              -22.7           -28.7          NaN   \n",
      "4          925.0      915.0              -22.9           -28.9         2.98   \n",
      "5          898.0     1131.0              -22.9           -28.9          NaN   \n",
      "6          851.0     1526.0              -21.3           -35.3          NaN   \n",
      "7          850.0     1536.0              -21.3           -35.3         2.57   \n",
      "8          763.0     2328.0              -22.5           -40.5          NaN   \n",
      "9          730.0     2651.0              -24.1           -41.1          NaN   \n",
      "10         721.0     2741.0              -23.1           -41.1          NaN   \n",
      "11         707.0     2884.0              -22.9           -41.9          NaN   \n",
      "12         700.0     2961.0              -23.3           -43.3         7.83   \n",
      "13         610.0     3960.0              -25.9           -43.9          NaN   \n",
      "14         510.0     5231.0              -34.3           -52.3          NaN   \n",
      "15         500.0     5370.0              -34.5           -52.5        15.87   \n",
      "16         463.0     5906.0              -34.5           -52.5          NaN   \n",
      "17         423.0     6530.0              -38.5           -53.5          NaN   \n",
      "18         409.0     6761.0              -38.7           -53.7          NaN   \n",
      "19         400.0     6920.0              -39.9           -54.9        19.71   \n",
      "20         300.0     8820.0              -54.7           -66.7        16.64   \n",
      "21         255.0     9842.0              -58.1           -69.1          NaN   \n",
      "22         250.0     9970.0              -58.3           -69.3        20.59   \n",
      "23         228.0    10548.0              -58.5           -69.5          NaN   \n",
      "24         214.0    10946.0              -57.7           -68.7          NaN   \n",
      "25         209.0    11095.0              -56.5           -68.5          NaN   \n",
      "26         200.0    11380.0              -56.7           -68.7        21.52   \n",
      "27         192.0    11637.0              -57.7           -69.7          NaN   \n",
      "28         183.0    11939.0              -57.5           -69.5          NaN   \n",
      "29         175.0    12219.0              -59.1           -70.1          NaN   \n",
      "30         168.0    12474.0              -59.7           -70.7          NaN   \n",
      "31         163.0    12662.0              -59.9           -70.9          NaN   \n",
      "32         156.0    12936.0              -58.7           -69.7          NaN   \n",
      "33         150.0    13190.0              -58.9           -69.9        17.77   \n",
      "34         141.0    13577.0              -59.5           -70.5          NaN   \n",
      "35         130.0    14084.0              -59.1           -70.1          NaN   \n",
      "36         111.0    15064.0              -62.5           -73.5          NaN   \n",
      "37         106.0    15348.0              -61.9           -72.9          NaN   \n",
      "38         104.0    15465.0              -62.7           -73.7          NaN   \n",
      "39         100.0    15710.0              -61.7           -72.7        25.97   \n",
      "40          91.5    16259.0              -61.5           -72.5          NaN   \n",
      "41          78.4    17204.0              -66.1           -76.1          NaN   \n",
      "42          70.0    17900.0              -65.9           -75.9        35.29   \n",
      "43          68.6    18022.0              -65.9           -75.9          NaN   \n",
      "44          57.6    19071.0              -69.3           -79.3          NaN   \n",
      "45          52.0    19680.0              -69.1           -79.1          NaN   \n",
      "46          50.0    19920.0              -68.1           -78.1        35.71   \n",
      "47          47.2    20266.0              -66.5           -76.5          NaN   \n",
      "48          30.0    23000.0              -67.9           -77.9        41.83   \n",
      "49          20.0    25420.0              -69.5           -79.5        40.38   \n",
      "50          19.9    25450.0              -69.5           -79.5          NaN   \n",
      "\n",
      "    v-wind[m/s]  \n",
      "0           NaN  \n",
      "1           NaN  \n",
      "2           NaN  \n",
      "3           NaN  \n",
      "4         -0.80  \n",
      "5           NaN  \n",
      "6           NaN  \n",
      "7         -4.46  \n",
      "8           NaN  \n",
      "9           NaN  \n",
      "10          NaN  \n",
      "11          NaN  \n",
      "12       -16.78  \n",
      "13          NaN  \n",
      "14          NaN  \n",
      "15       -34.04  \n",
      "16          NaN  \n",
      "17          NaN  \n",
      "18          NaN  \n",
      "19       -54.14  \n",
      "20       -62.11  \n",
      "21          NaN  \n",
      "22       -56.56  \n",
      "23          NaN  \n",
      "24          NaN  \n",
      "25          NaN  \n",
      "26       -46.16  \n",
      "27          NaN  \n",
      "28          NaN  \n",
      "29          NaN  \n",
      "30          NaN  \n",
      "31          NaN  \n",
      "32          NaN  \n",
      "33       -48.83  \n",
      "34          NaN  \n",
      "35          NaN  \n",
      "36          NaN  \n",
      "37          NaN  \n",
      "38          NaN  \n",
      "39       -37.08  \n",
      "40          NaN  \n",
      "41          NaN  \n",
      "42       -35.29  \n",
      "43          NaN  \n",
      "44          NaN  \n",
      "45          NaN  \n",
      "46       -42.56  \n",
      "47          NaN  \n",
      "48       -41.83  \n",
      "49       -40.38  \n",
      "50          NaN  \n"
     ]
    }
   ],
   "source": [
    "\n",
    "data = pd.read_csv('KBIS_sounding.csv',delimiter=',',skiprows=1)\n",
    "print(data)"
   ]
  },
  {
   "cell_type": "markdown",
   "id": "7c16f59b",
   "metadata": {},
   "source": [
    "### EXTRACT VARIABLES AND ADD UNITS ###\n",
    "make sure winds are converted to knots"
   ]
  },
  {
   "cell_type": "code",
   "execution_count": 28,
   "id": "11986b6a",
   "metadata": {},
   "outputs": [
    {
     "name": "stdout",
     "output_type": "stream",
     "text": [
      "[nan nan nan nan 5.792656587473003 nan nan 4.995680345572354 nan nan nan nan 15.220302375809936 nan nan 30.848812095032397 nan nan nan 38.313174946004324 32.34557235421167 nan 40.02375809935205 nan nan nan 41.83153347732181 nan nan nan nan nan nan 34.54211663066955 nan nan nan nan nan 50.481641468682504 nan nan 68.59827213822895 nan nan nan 69.414686825054 nan 81.3110151187905 78.49244060475164 nan] knot\n"
     ]
    }
   ],
   "source": [
    "#grabs the first line which is the title of the data\n",
    "title = open(\"../assignment_2/KBIS_sounding.csv\",\"r\").readlines()[0]\n",
    "#grab each variable and add units\n",
    "pressure = data['pressure[mb]'].values * units('millibar')\n",
    "hight = data['height[m]'].values * units('meters')\n",
    "temp = data['temperature[degC]'].values * units.degC\n",
    "dew = data['dewpoint[degC]'].values * units.degC\n",
    "uwind = data['u-wind[m/s]'].values * units('m/s').to(units('knots'))\n",
    "vwind = data['u-wind[m/s]'].values * units('m/s').to(units('knots'))\n",
    "print(vwind)"
   ]
  },
  {
   "cell_type": "markdown",
   "id": "4738eadb",
   "metadata": {},
   "source": [
    "### PLOT TEMPERATURE & DEWPOINT VS HEIGHT ###"
   ]
  },
  {
   "cell_type": "code",
   "execution_count": 32,
   "id": "05bd41f9",
   "metadata": {},
   "outputs": [
    {
     "ename": "NameError",
     "evalue": "name 'fig' is not defined",
     "output_type": "error",
     "traceback": [
      "\u001b[0;31m---------------------------------------------------------------------------\u001b[0m",
      "\u001b[0;31mNameError\u001b[0m                                 Traceback (most recent call last)",
      "Cell \u001b[0;32mIn[32], line 20\u001b[0m\n\u001b[1;32m      2\u001b[0m grapha \u001b[38;5;241m=\u001b[39m plt\u001b[38;5;241m.\u001b[39mfigure(figsize \u001b[38;5;241m=\u001b[39m(\u001b[38;5;241m4\u001b[39m, \u001b[38;5;241m4\u001b[39m),dpi\u001b[38;5;241m=\u001b[39m\u001b[38;5;241m150\u001b[39m)\n\u001b[1;32m      3\u001b[0m \u001b[38;5;66;03m#create subplot\u001b[39;00m\n\u001b[1;32m      4\u001b[0m \n\u001b[1;32m      5\u001b[0m \u001b[38;5;66;03m#plot temperature on the x-axis, height on the y-axis in red\u001b[39;00m\n\u001b[0;32m   (...)\u001b[0m\n\u001b[1;32m     18\u001b[0m \n\u001b[1;32m     19\u001b[0m \u001b[38;5;66;03m#this is added to make sure labels don't get cut off\u001b[39;00m\n\u001b[0;32m---> 20\u001b[0m fig\u001b[38;5;241m.\u001b[39mtight_layout()\n\u001b[1;32m     21\u001b[0m \u001b[38;5;66;03m#save the figure as temp_dwpt.png\u001b[39;00m\n\u001b[1;32m     22\u001b[0m plt\u001b[38;5;241m.\u001b[39msavefig(\u001b[38;5;124m'\u001b[39m\u001b[38;5;124mtemp_dwpt.png\u001b[39m\u001b[38;5;124m'\u001b[39m)\n",
      "\u001b[0;31mNameError\u001b[0m: name 'fig' is not defined"
     ]
    },
    {
     "data": {
      "text/plain": [
       "<Figure size 600x600 with 0 Axes>"
      ]
     },
     "metadata": {},
     "output_type": "display_data"
    }
   ],
   "source": [
    "#create a figure (4 x 4 *figsize) dpi = 150\n",
    "grapha = plt.figure(figsize =(4, 4),dpi=150)\n",
    "#create subplot\n",
    "\n",
    "#plot temperature on the x-axis, height on the y-axis in red\n",
    "#give it the label of TEMPERATURE\n",
    "\n",
    "#plot dewpoint in blue\n",
    "#give it the label of DEWPOINT\n",
    "\n",
    "#add a background grid\n",
    "\n",
    "#add a x label with units (including the degree symbol) - google it and figure it out :)\n",
    "\n",
    "#add a y label with units \n",
    "\n",
    "#add a legend\n",
    "\n",
    "#this is added to make sure labels don't get cut off\n",
    "fig.tight_layout()\n",
    "#save the figure as temp_dwpt.png\n",
    "plt.savefig('temp_dwpt.png')"
   ]
  },
  {
   "cell_type": "markdown",
   "id": "05723ee8",
   "metadata": {},
   "source": [
    "While this is nice, it's not particularly useful to us for analyzing the current weather or making a forecast.\n",
    "\n",
    "For that, we typically examine Skew-T Log-P diagrams.  For this, we will be following a modified version of the \"Skew-T with Complex Layout\" example on MetPy's website (https://unidata.github.io/MetPy/latest/examples/plots/Skew-T_Layout.html)"
   ]
  },
  {
   "cell_type": "markdown",
   "id": "a7491edd",
   "metadata": {},
   "source": [
    "### PLOT DATA ON SKEW-T ###"
   ]
  },
  {
   "cell_type": "code",
   "execution_count": null,
   "id": "61376b28",
   "metadata": {},
   "outputs": [],
   "source": [
    "#create a figure and give it a figsize of 9x9, with a dpi of 100\n",
    "\n",
    "#create Skew-T\n",
    "skew = SkewT(fig,rotation=45)\n",
    "\n",
    "#add dry adiabats\n",
    "skew.plot_dry_adiabats()\n",
    "#add moist adiabats\n",
    "skew.plot_moist_adiabats()\n",
    "#add mixing ratio lines\n",
    "skew.plot_mixing_lines()\n",
    "\n",
    "#add axis labels with units\n",
    "\n",
    "#add a y label with units \n",
    "\n",
    "\n",
    "#add temperature in red\n",
    "\n",
    "#add dewpoint in blue\n",
    "\n",
    "\n",
    "#plot wind barbs\n",
    "\n",
    "\n",
    "#set x-axis limits that look good (use your eyes)\n",
    "\n",
    "#set y-axis limits that include the tropopause but not a ton of the stratosphere\n",
    "\n",
    "#to make sure everything looks okay\n",
    "fig.tight_layout()\n",
    "\n",
    "#save the skew T as skewT.png\n"
   ]
  },
  {
   "cell_type": "markdown",
   "id": "f13741ac",
   "metadata": {},
   "source": [
    "### PLOT HODOGRAPH ###\n",
    "The plot will not look correct if you do not remove NaNs"
   ]
  },
  {
   "cell_type": "code",
   "execution_count": null,
   "id": "b016a943",
   "metadata": {},
   "outputs": [],
   "source": [
    "#remove nans from u and v\n",
    "u_hodo = u.dropna()\n",
    "\n",
    "\n",
    "#create the hodograph (have the range from 0-100kts with 25kt increment)\n",
    "#make the wind curve black\n",
    "\n",
    "#add x and y labels\n",
    "\n",
    "#to make sure everything looks okay\n",
    "fig.tight_layout()\n",
    "\n",
    "#save figure as hodo.png\n"
   ]
  },
  {
   "cell_type": "markdown",
   "id": "0c43d83f",
   "metadata": {},
   "source": [
    "### PLOT SKEW-T & HODOGRAPH ON SAME FIGURE ###"
   ]
  },
  {
   "cell_type": "code",
   "execution_count": null,
   "id": "511a4f50",
   "metadata": {},
   "outputs": [],
   "source": [
    "fig = plt.figure(figsize=(9,9),dpi=100)\n",
    "\n",
    "gs = gridspec.GridSpec(3,3)\n",
    "skew = SkewT(fig, rotation=45, subplot=gs[:,:2])\n",
    "\n",
    "#add dry adiabats\n",
    "\n",
    "#add moist adiabats\n",
    "\n",
    "#add mixing ratio lines\n",
    "\n",
    "\n",
    "#add axis labels with units\n",
    "\n",
    "#add a y label with units \n",
    "\n",
    "\n",
    "#add temperature in red\n",
    "\n",
    "#add dewpoint in blue\n",
    "\n",
    "\n",
    "#plot wind barbs\n",
    "\n",
    "\n",
    "#set x-axis limits that look good (use your eyes)\n",
    "\n",
    "#set y-axis limits that include the tropopause but not a ton of the stratosphere\n",
    "\n",
    "#add a hodograph\n",
    "ax = fig.add_subplot(gs[0,-1])\n",
    "\n",
    "#add x and y labels\n",
    "\n",
    "#add a title with the date and launch location:\n",
    "plt.suptitle(title)\n",
    "\n",
    "#to make sure everything looks okay\n",
    "fig.tight_layout()\n",
    "\n",
    "#save the figure as skew_hodo.png\n"
   ]
  },
  {
   "cell_type": "code",
   "execution_count": null,
   "id": "406c370b",
   "metadata": {},
   "outputs": [],
   "source": []
  }
 ],
 "metadata": {
  "kernelspec": {
   "display_name": "Python 3 (ipykernel)",
   "language": "python",
   "name": "python3"
  },
  "language_info": {
   "codemirror_mode": {
    "name": "ipython",
    "version": 3
   },
   "file_extension": ".py",
   "mimetype": "text/x-python",
   "name": "python",
   "nbconvert_exporter": "python",
   "pygments_lexer": "ipython3",
   "version": "3.11.7"
  }
 },
 "nbformat": 4,
 "nbformat_minor": 5
}
