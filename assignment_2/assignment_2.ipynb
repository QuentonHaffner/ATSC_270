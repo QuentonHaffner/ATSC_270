{
 "cells": [
  {
   "cell_type": "markdown",
   "id": "bd61f82f",
   "metadata": {},
   "source": [
    "# ASSIGNMENT #2 - ATMOSPHERIC SOUNDINGS #\n",
    "Due: 04 February 2023 @ 11:59p"
   ]
  },
  {
   "cell_type": "markdown",
   "id": "816b3dd4",
   "metadata": {},
   "source": [
    "Purpose:\\\n",
    "The purpose of this assignment is to become familiar with reading in text data, storing the data in arrays, applying metpy units, and outputting the data into easily read files.\n",
    "\n",
    "Overview:\\\n",
    "In this assignment you will read in atmospheric sounding data and apply units to the data and print the data to a text file and a comma-separated value (csv) text file.\n",
    "\n",
    "\n",
    "| | UPDATE TO YOUR INFORMATION | \n",
    "| :- | :- |\n",
    "| Created By | Quenton Haffner |\n",
    "| Creation Date | 09 January 2024 |\n",
    "| Course | ATSC 270 - Computer Concepts in Meteorology |"
   ]
  },
  {
   "cell_type": "code",
   "execution_count": 1,
   "id": "eb870142",
   "metadata": {},
   "outputs": [],
   "source": [
    "### UPDATE TO YOUR INFORMATION ###\n",
    "#information allowing anyone with the code to print the author and contact information\n",
    "__author__    = \"Quenton Haffner\"\n",
    "__contact__   = \"quenton2023@gmail.com\""
   ]
  },
  {
   "cell_type": "markdown",
   "id": "7dec3f1b",
   "metadata": {},
   "source": [
    "### IMPORT REQUIRED LIBRARIES ###"
   ]
  },
  {
   "cell_type": "code",
   "execution_count": 2,
   "id": "b4b5cb45",
   "metadata": {},
   "outputs": [],
   "source": [
    "import numpy as np\n",
    "from metpy.calc import wind_components\n",
    "from metpy.units import units\n",
    "import pandas as pd"
   ]
  },
  {
   "cell_type": "markdown",
   "id": "1df8fe8f",
   "metadata": {},
   "source": [
    "### OPEN SOUNDING FILE ###"
   ]
  },
  {
   "cell_type": "code",
   "execution_count": 3,
   "id": "2a62a4f1",
   "metadata": {},
   "outputs": [],
   "source": [
    "soundingfile = open('KBIS_2009011512.txt','r').readlines()\n"
   ]
  },
  {
   "cell_type": "markdown",
   "id": "133b2f64",
   "metadata": {},
   "source": [
    "### READ IN DATA INTO LISTS ###"
   ]
  },
  {
   "cell_type": "code",
   "execution_count": 4,
   "id": "65907f20",
   "metadata": {},
   "outputs": [
    {
     "name": "stdout",
     "output_type": "stream",
     "text": [
      "['M', '0.0', 'M', 'M', 'M', '0.0', '0.0', 'M', '0.0', 'M', '0.0', '0.0', '0.0', 'M', '1.0', 'M', 'M', '1.0', 'M', '2.0', '3.0', 'M', '5.0', '7.0', '8.0', 'M', '9.0', 'M', '13.0', 'M', 'M', '17.0', '18.0', '22.0', '30.0', '32.0', '34.0', '34.0', 'M', '38.0', 'M', 'M', 'M', '46.0', '46.0', 'M', 'M', 'M', 'M', 'M', '54.0', 'M', '56.0', 'M', 'M', 'M', '67.0', 'M', 'M', '70.0', 'M', 'M', '78.0', '80.0', 'M', '82.0', 'M', '89.0', 'M', '92.0', 'M', '98.0', '100.0', '108.0', '109.0', '109.0', '117.0', '122.0', '123.0', 'M']\n"
     ]
    }
   ],
   "source": [
    "#append works best here, even though appending is bad\n",
    "#station,validUTC,levelcode,pressure_mb,height_m,tmpc,dwpc,drct,speed_kts,bearing,range_sm\n",
    "#creating the lists for each variable, skipping first line as it is the header\n",
    "station = []\n",
    "UTC = []\n",
    "levelcode = []\n",
    "pressure = []\n",
    "hieght = []\n",
    "tempc = []\n",
    "dewc = []\n",
    "drct = []\n",
    "kts = []\n",
    "bearing = []\n",
    "range_sm = []\n",
    "for line in soundingfile[1:]: #appending for each list the gievn variable\n",
    "    station.append(line.split(',')[0])\n",
    "    UTC.append(line.split(',')[1])\n",
    "    levelcode.append(line.split(',')[2])\n",
    "    pressure.append(line.split(',')[3])\n",
    "    hieght.append(line.split(',')[4])\n",
    "    tempc.append(line.split(',')[5])\n",
    "    dewc.append(line.split(',')[6])\n",
    "    drct.append(line.split(',')[7])\n",
    "    kts.append(line.split(',')[8])\n",
    "    bearing.append(line.split(',')[9])\n",
    "    range_sm.append(line.split(',')[10].strip()) # add r strip to negate whitespace\n",
    "\n",
    "print(range_sm)\n"
   ]
  },
  {
   "cell_type": "markdown",
   "id": "be194c5e",
   "metadata": {},
   "source": [
    "### SUBSET TO MANDATORY AND SIGNIFICANT LEVELS ###\n",
    "\n",
    "#### This should remove missing data ####\n",
    "\n",
    "| Level Code | Meaning |\n",
    "| --- | :- |\n",
    "| 4 | mandatory |\n",
    "| 5 | significant |\n",
    "| 6 | wind level (PPBB) |\n",
    "| 7 | tropopause level |\n",
    "| 8 | maximum wind level |\n",
    "| 9 | surface level |"
   ]
  },
  {
   "cell_type": "code",
   "execution_count": 17,
   "id": "0095a064",
   "metadata": {},
   "outputs": [],
   "source": [
    "#creating a list to hold values for the mandatory and significant levels\n",
    "station_sub = [] #finding the significant data\n",
    "UTC_subset = []\n",
    "levelcode_subset = []\n",
    "pressure_subset = []\n",
    "hieght_subset = []\n",
    "tempc_subset = []\n",
    "dewc_subset = []\n",
    "drct_subset = []\n",
    "kts_subset = []\n",
    "bearing_subset = []\n",
    "range_sm_subset = []\n",
    "#looping through each level in the sounding to check if its is mandatory or significant\n",
    "#doing this by looping through inexes\n",
    "for index in range(len(levelcode)):\n",
    "    #if level cose is manadory or significant\n",
    "    if levelcode[index] == '4' or levelcode[index] == '5':\n",
    "        #add that level to each list\n",
    "        station_sub.append(station[index])\n",
    "        levelcode_subset.append(levelcode[index])\n",
    "        UTC_subset.append(UTC[index])\n",
    "        pressure_subset.append(pressure[index])\n",
    "        hieght_subset.append(hieght[index])\n",
    "        tempc_subset.append(tempc[index])\n",
    "        dewc_subset.append(dewc[index])\n",
    "        drct_subset.append(drct[index])\n",
    "        kts_subset.append(kts[index])\n",
    "        bearing_subset.append(bearing[index])\n",
    "        range_sm_subset.append(range_sm[index])"
   ]
  },
  {
   "cell_type": "markdown",
   "id": "0672b7d3",
   "metadata": {},
   "source": [
    "### CONVERT STRINGS ###\n",
    "Some data needs to be floating point numbers, some needs to be integers, some should stay as strings.\n",
    "\n",
    "Hint: You can leave the UTC time as a string and anything that needs NaNs will be a floating point."
   ]
  },
  {
   "cell_type": "code",
   "execution_count": 18,
   "id": "99b298a4",
   "metadata": {},
   "outputs": [],
   "source": [
    "for index in range(len(station_sub)): #changing data types to their appropriate type\n",
    "    \n",
    "    levelcode_subset[index] = int(levelcode_subset[index])\n",
    "    if pressure_subset[index] == 'M':\n",
    "        pressure_subset[index] = float('NaN')\n",
    "    else:\n",
    "        pressure_subset[index] = float(pressure_subset[index])\n",
    "    if hieght_subset[index] == 'M':\n",
    "        hieght_subset[index] = float('NaN')\n",
    "    else:\n",
    "        hieght_subset[index] = float(hieght_subset[index])\n",
    "\n",
    "    if tempc_subset[index] == 'M':\n",
    "        tempc_subset[index] = float('NaN')\n",
    "    else:\n",
    "        tempc_subset[index] = float(tempc_subset[index])\n",
    "\n",
    "    if dewc_subset[index] == 'M':\n",
    "        dewc_subset[index] = float('NaN')\n",
    "    else:\n",
    "        dewc_subset[index] = float(dewc_subset[index])\n",
    "\n",
    "    if drct_subset[index] == 'M':\n",
    "        drct_subset[index] = float('NaN')\n",
    "    else:\n",
    "        drct_subset[index] = float(drct_subset[index])\n",
    "\n",
    "    if kts_subset[index] == 'M':\n",
    "        kts_subset[index] = float('NaN')\n",
    "    else:\n",
    "        kts_subset[index] = float(kts_subset[index])\n",
    "\n",
    "    if bearing_subset[index] == 'M':\n",
    "        bearing_subset[index] = float('NaN')\n",
    "    else:\n",
    "        bearing_subset[index] = float(bearing_subset[index])\n",
    "\n",
    "    if range_sm_subset[index] == 'M':\n",
    "        range_sm_subset[index] = float('NaN')\n",
    "    else:\n",
    "        range_sm_subset[index] = float(range_sm_subset[index])\n"
   ]
  },
  {
   "cell_type": "markdown",
   "id": "550558da",
   "metadata": {},
   "source": [
    "### ADD UNITS ###\n",
    "Add units using metpy.\n",
    "\n",
    "Make sure to identify which variables need units.\n",
    "\n",
    "https://unidata.github.io/MetPy/latest/tutorials/unit_tutorial.html"
   ]
  },
  {
   "cell_type": "code",
   "execution_count": 19,
   "id": "d759caa8",
   "metadata": {},
   "outputs": [],
   "source": [
    "\n",
    "for index in range(len(pressure_subset)):\n",
    "    pressure_subset[index] = pressure_subset[index] * units('millibar')\n",
    "    hieght_subset[index] = hieght_subset[index] * units('meters')\n",
    "    tempc_subset[index] = tempc_subset[index] * units.degC\n",
    "    dewc_subset[index] = dewc_subset[index] * units.degC\n",
    "    drct_subset[index] = drct_subset[index] * units('degrees')\n",
    "    kts_subset[index] = kts_subset[index] * units('knots')\n",
    "    bearing_subset[index] = bearing_subset[index] * units('degrees')\n",
    "    range_sm_subset[index] = range_sm_subset[index] * units('miles')"
   ]
  },
  {
   "cell_type": "markdown",
   "id": "2de14125",
   "metadata": {},
   "source": [
    "### CONVERT WINDS TO U,V COMPONENTS ###\n",
    "For this, we will be using the metpy.calc.wind_components() function.  This has been imported as wind_components(). \n",
    "\n",
    "https://unidata.github.io/MetPy/latest/api/generated/metpy.calc.wind_components.html\n",
    "\n",
    "Please see the website above to understand how this function works."
   ]
  },
  {
   "cell_type": "code",
   "execution_count": 33,
   "id": "f439cc83",
   "metadata": {},
   "outputs": [
    {
     "name": "stdout",
     "output_type": "stream",
     "text": [
      "[<Quantity(nan, 'knot')>, <Quantity(nan, 'knot')>, <Quantity(nan, 'knot')>, <Quantity(nan, 'knot')>, <Quantity(-1.55291427, 'knot')>, <Quantity(nan, 'knot')>, <Quantity(nan, 'knot')>, <Quantity(-8.66025404, 'knot')>, <Quantity(nan, 'knot')>, <Quantity(nan, 'knot')>, <Quantity(nan, 'knot')>, <Quantity(nan, 'knot')>, <Quantity(-32.6270803, 'knot')>, <Quantity(nan, 'knot')>, <Quantity(nan, 'knot')>, <Quantity(-66.1604685, 'knot')>, <Quantity(nan, 'knot')>, <Quantity(nan, 'knot')>, <Quantity(nan, 'knot')>, <Quantity(-105.245574, 'knot')>, <Quantity(-120.740728, 'knot')>, <Quantity(nan, 'knot')>, <Quantity(-109.944037, 'knot')>, <Quantity(nan, 'knot')>, <Quantity(nan, 'knot')>, <Quantity(nan, 'knot')>, <Quantity(-89.7244709, 'knot')>, <Quantity(nan, 'knot')>, <Quantity(nan, 'knot')>, <Quantity(nan, 'knot')>, <Quantity(nan, 'knot')>, <Quantity(nan, 'knot')>, <Quantity(nan, 'knot')>, <Quantity(-94.9089547, 'knot')>, <Quantity(nan, 'knot')>, <Quantity(nan, 'knot')>, <Quantity(nan, 'knot')>, <Quantity(nan, 'knot')>, <Quantity(nan, 'knot')>, <Quantity(-72.0853799, 'knot')>, <Quantity(nan, 'knot')>, <Quantity(nan, 'knot')>, <Quantity(-68.5893578, 'knot')>, <Quantity(nan, 'knot')>, <Quantity(nan, 'knot')>, <Quantity(nan, 'knot')>, <Quantity(-82.7327999, 'knot')>, <Quantity(nan, 'knot')>, <Quantity(-81.3172798, 'knot')>, <Quantity(-78.4888527, 'knot')>, <Quantity(nan, 'knot')>]\n"
     ]
    }
   ],
   "source": [
    "#adding units to wind\n",
    "\n",
    "u = []\n",
    "v = []\n",
    "for i in range(len(kts_subset)):\n",
    "    \n",
    "    thisu,thisv = wind_components(kts_subset[i],drct_subset[i])\n",
    "    u.append(thisu)\n",
    "    v.append(thisv)\n",
    "print(v)\n",
    "    "
   ]
  },
  {
   "cell_type": "markdown",
   "id": "1a8467cf",
   "metadata": {},
   "source": [
    "### CONVERT U,V WINDS TO M/S ###"
   ]
  },
  {
   "cell_type": "code",
   "execution_count": 39,
   "id": "9ba4b1b9",
   "metadata": {},
   "outputs": [
    {
     "name": "stdout",
     "output_type": "stream",
     "text": [
      "[4, 5, 5, 5, 4, 5, 5, 4, 5, 5, 5, 5, 4, 5, 5, 4, 5, 5, 5, 4, 4, 5, 4, 5, 5, 5, 4, 5, 5, 5, 5, 5, 5, 4, 5, 5, 5, 5, 5, 4, 5, 5, 4, 5, 5, 5, 4, 5, 4, 4, 5],[<Quantity(1000.0, 'millibar')>, <Quantity(959.0, 'millibar')>, <Quantity(949.0, 'millibar')>, <Quantity(936.0, 'millibar')>, <Quantity(925.0, 'millibar')>, <Quantity(898.0, 'millibar')>, <Quantity(851.0, 'millibar')>, <Quantity(850.0, 'millibar')>, <Quantity(763.0, 'millibar')>, <Quantity(730.0, 'millibar')>, <Quantity(721.0, 'millibar')>, <Quantity(707.0, 'millibar')>, <Quantity(700.0, 'millibar')>, <Quantity(610.0, 'millibar')>, <Quantity(510.0, 'millibar')>, <Quantity(500.0, 'millibar')>, <Quantity(463.0, 'millibar')>, <Quantity(423.0, 'millibar')>, <Quantity(409.0, 'millibar')>, <Quantity(400.0, 'millibar')>, <Quantity(300.0, 'millibar')>, <Quantity(255.0, 'millibar')>, <Quantity(250.0, 'millibar')>, <Quantity(228.0, 'millibar')>, <Quantity(214.0, 'millibar')>, <Quantity(209.0, 'millibar')>, <Quantity(200.0, 'millibar')>, <Quantity(192.0, 'millibar')>, <Quantity(183.0, 'millibar')>, <Quantity(175.0, 'millibar')>, <Quantity(168.0, 'millibar')>, <Quantity(163.0, 'millibar')>, <Quantity(156.0, 'millibar')>, <Quantity(150.0, 'millibar')>, <Quantity(141.0, 'millibar')>, <Quantity(130.0, 'millibar')>, <Quantity(111.0, 'millibar')>, <Quantity(106.0, 'millibar')>, <Quantity(104.0, 'millibar')>, <Quantity(100.0, 'millibar')>, <Quantity(91.5, 'millibar')>, <Quantity(78.4, 'millibar')>, <Quantity(70.0, 'millibar')>, <Quantity(68.6, 'millibar')>, <Quantity(57.6, 'millibar')>, <Quantity(52.0, 'millibar')>, <Quantity(50.0, 'millibar')>, <Quantity(47.2, 'millibar')>, <Quantity(30.0, 'millibar')>, <Quantity(20.0, 'millibar')>, <Quantity(19.9, 'millibar')>],[<Quantity(355.0, 'meter')>, <Quantity(649.0, 'meter')>, <Quantity(726.0, 'meter')>, <Quantity(826.0, 'meter')>, <Quantity(915.0, 'meter')>, <Quantity(1131.0, 'meter')>, <Quantity(1526.0, 'meter')>, <Quantity(1536.0, 'meter')>, <Quantity(2328.0, 'meter')>, <Quantity(2651.0, 'meter')>, <Quantity(2741.0, 'meter')>, <Quantity(2884.0, 'meter')>, <Quantity(2961.0, 'meter')>, <Quantity(3960.0, 'meter')>, <Quantity(5231.0, 'meter')>, <Quantity(5370.0, 'meter')>, <Quantity(5906.0, 'meter')>, <Quantity(6530.0, 'meter')>, <Quantity(6761.0, 'meter')>, <Quantity(6920.0, 'meter')>, <Quantity(8820.0, 'meter')>, <Quantity(9842.0, 'meter')>, <Quantity(9970.0, 'meter')>, <Quantity(10548.0, 'meter')>, <Quantity(10946.0, 'meter')>, <Quantity(11095.0, 'meter')>, <Quantity(11380.0, 'meter')>, <Quantity(11637.0, 'meter')>, <Quantity(11939.0, 'meter')>, <Quantity(12219.0, 'meter')>, <Quantity(12474.0, 'meter')>, <Quantity(12662.0, 'meter')>, <Quantity(12936.0, 'meter')>, <Quantity(13190.0, 'meter')>, <Quantity(13577.0, 'meter')>, <Quantity(14084.0, 'meter')>, <Quantity(15064.0, 'meter')>, <Quantity(15348.0, 'meter')>, <Quantity(15465.0, 'meter')>, <Quantity(15710.0, 'meter')>, <Quantity(16259.0, 'meter')>, <Quantity(17204.0, 'meter')>, <Quantity(17900.0, 'meter')>, <Quantity(18022.0, 'meter')>, <Quantity(19071.0, 'meter')>, <Quantity(19680.0, 'meter')>, <Quantity(19920.0, 'meter')>, <Quantity(20266.0, 'meter')>, <Quantity(23000.0, 'meter')>, <Quantity(25420.0, 'meter')>, <Quantity(25450.0, 'meter')>],[<Quantity(nan, 'degree_Celsius')>, <Quantity(-25.3, 'degree_Celsius')>, <Quantity(-24.1, 'degree_Celsius')>, <Quantity(-22.7, 'degree_Celsius')>, <Quantity(-22.9, 'degree_Celsius')>, <Quantity(-22.9, 'degree_Celsius')>, <Quantity(-21.3, 'degree_Celsius')>, <Quantity(-21.3, 'degree_Celsius')>, <Quantity(-22.5, 'degree_Celsius')>, <Quantity(-24.1, 'degree_Celsius')>, <Quantity(-23.1, 'degree_Celsius')>, <Quantity(-22.9, 'degree_Celsius')>, <Quantity(-23.3, 'degree_Celsius')>, <Quantity(-25.9, 'degree_Celsius')>, <Quantity(-34.3, 'degree_Celsius')>, <Quantity(-34.5, 'degree_Celsius')>, <Quantity(-34.5, 'degree_Celsius')>, <Quantity(-38.5, 'degree_Celsius')>, <Quantity(-38.7, 'degree_Celsius')>, <Quantity(-39.9, 'degree_Celsius')>, <Quantity(-54.7, 'degree_Celsius')>, <Quantity(-58.1, 'degree_Celsius')>, <Quantity(-58.3, 'degree_Celsius')>, <Quantity(-58.5, 'degree_Celsius')>, <Quantity(-57.7, 'degree_Celsius')>, <Quantity(-56.5, 'degree_Celsius')>, <Quantity(-56.7, 'degree_Celsius')>, <Quantity(-57.7, 'degree_Celsius')>, <Quantity(-57.5, 'degree_Celsius')>, <Quantity(-59.1, 'degree_Celsius')>, <Quantity(-59.7, 'degree_Celsius')>, <Quantity(-59.9, 'degree_Celsius')>, <Quantity(-58.7, 'degree_Celsius')>, <Quantity(-58.9, 'degree_Celsius')>, <Quantity(-59.5, 'degree_Celsius')>, <Quantity(-59.1, 'degree_Celsius')>, <Quantity(-62.5, 'degree_Celsius')>, <Quantity(-61.9, 'degree_Celsius')>, <Quantity(-62.7, 'degree_Celsius')>, <Quantity(-61.7, 'degree_Celsius')>, <Quantity(-61.5, 'degree_Celsius')>, <Quantity(-66.1, 'degree_Celsius')>, <Quantity(-65.9, 'degree_Celsius')>, <Quantity(-65.9, 'degree_Celsius')>, <Quantity(-69.3, 'degree_Celsius')>, <Quantity(-69.1, 'degree_Celsius')>, <Quantity(-68.1, 'degree_Celsius')>, <Quantity(-66.5, 'degree_Celsius')>, <Quantity(-67.9, 'degree_Celsius')>, <Quantity(-69.5, 'degree_Celsius')>, <Quantity(-69.5, 'degree_Celsius')>],[<Quantity(nan, 'degree_Celsius')>, <Quantity(-28.8, 'degree_Celsius')>, <Quantity(-27.6, 'degree_Celsius')>, <Quantity(-28.7, 'degree_Celsius')>, <Quantity(-28.9, 'degree_Celsius')>, <Quantity(-28.9, 'degree_Celsius')>, <Quantity(-35.3, 'degree_Celsius')>, <Quantity(-35.3, 'degree_Celsius')>, <Quantity(-40.5, 'degree_Celsius')>, <Quantity(-41.1, 'degree_Celsius')>, <Quantity(-41.1, 'degree_Celsius')>, <Quantity(-41.9, 'degree_Celsius')>, <Quantity(-43.3, 'degree_Celsius')>, <Quantity(-43.9, 'degree_Celsius')>, <Quantity(-52.3, 'degree_Celsius')>, <Quantity(-52.5, 'degree_Celsius')>, <Quantity(-52.5, 'degree_Celsius')>, <Quantity(-53.5, 'degree_Celsius')>, <Quantity(-53.7, 'degree_Celsius')>, <Quantity(-54.9, 'degree_Celsius')>, <Quantity(-66.7, 'degree_Celsius')>, <Quantity(-69.1, 'degree_Celsius')>, <Quantity(-69.3, 'degree_Celsius')>, <Quantity(-69.5, 'degree_Celsius')>, <Quantity(-68.7, 'degree_Celsius')>, <Quantity(-68.5, 'degree_Celsius')>, <Quantity(-68.7, 'degree_Celsius')>, <Quantity(-69.7, 'degree_Celsius')>, <Quantity(-69.5, 'degree_Celsius')>, <Quantity(-70.1, 'degree_Celsius')>, <Quantity(-70.7, 'degree_Celsius')>, <Quantity(-70.9, 'degree_Celsius')>, <Quantity(-69.7, 'degree_Celsius')>, <Quantity(-69.9, 'degree_Celsius')>, <Quantity(-70.5, 'degree_Celsius')>, <Quantity(-70.1, 'degree_Celsius')>, <Quantity(-73.5, 'degree_Celsius')>, <Quantity(-72.9, 'degree_Celsius')>, <Quantity(-73.7, 'degree_Celsius')>, <Quantity(-72.7, 'degree_Celsius')>, <Quantity(-72.5, 'degree_Celsius')>, <Quantity(-76.1, 'degree_Celsius')>, <Quantity(-75.9, 'degree_Celsius')>, <Quantity(-75.9, 'degree_Celsius')>, <Quantity(-79.3, 'degree_Celsius')>, <Quantity(-79.1, 'degree_Celsius')>, <Quantity(-78.1, 'degree_Celsius')>, <Quantity(-76.5, 'degree_Celsius')>, <Quantity(-77.9, 'degree_Celsius')>, <Quantity(-79.5, 'degree_Celsius')>, <Quantity(-79.5, 'degree_Celsius')>],[<Quantity(nan, 'meter / second')>, <Quantity(nan, 'meter / second')>, <Quantity(nan, 'meter / second')>, <Quantity(nan, 'meter / second')>, <Quantity(2.98149105, 'meter / second')>, <Quantity(nan, 'meter / second')>, <Quantity(nan, 'meter / second')>, <Quantity(2.57222222, 'meter / second')>, <Quantity(nan, 'meter / second')>, <Quantity(nan, 'meter / second')>, <Quantity(nan, 'meter / second')>, <Quantity(nan, 'meter / second')>, <Quantity(7.82689021, 'meter / second')>, <Quantity(nan, 'meter / second')>, <Quantity(nan, 'meter / second')>, <Quantity(15.871194, 'meter / second')>, <Quantity(nan, 'meter / second')>, <Quantity(nan, 'meter / second')>, <Quantity(nan, 'meter / second')>, <Quantity(19.7064406, 'meter / second')>, <Quantity(16.6435025, 'meter / second')>, <Quantity(nan, 'meter / second')>, <Quantity(20.5861924, 'meter / second')>, <Quantity(nan, 'meter / second')>, <Quantity(nan, 'meter / second')>, <Quantity(nan, 'meter / second')>, <Quantity(21.5239481, 'meter / second')>, <Quantity(nan, 'meter / second')>, <Quantity(nan, 'meter / second')>, <Quantity(nan, 'meter / second')>, <Quantity(nan, 'meter / second')>, <Quantity(nan, 'meter / second')>, <Quantity(nan, 'meter / second')>, <Quantity(17.7709866, 'meter / second')>, <Quantity(nan, 'meter / second')>, <Quantity(nan, 'meter / second')>, <Quantity(nan, 'meter / second')>, <Quantity(nan, 'meter / second')>, <Quantity(nan, 'meter / second')>, <Quantity(25.9664426, 'meter / second')>, <Quantity(nan, 'meter / second')>, <Quantity(nan, 'meter / second')>, <Quantity(35.2854141, 'meter / second')>, <Quantity(nan, 'meter / second')>, <Quantity(nan, 'meter / second')>, <Quantity(nan, 'meter / second')>, <Quantity(35.7132796, 'meter / second')>, <Quantity(nan, 'meter / second')>, <Quantity(41.8332228, 'meter / second')>, <Quantity(40.3781542, 'meter / second')>, <Quantity(nan, 'meter / second')>],[<Quantity(nan, 'meter / second')>, <Quantity(nan, 'meter / second')>, <Quantity(nan, 'meter / second')>, <Quantity(nan, 'meter / second')>, <Quantity(-0.798888119, 'meter / second')>, <Quantity(nan, 'meter / second')>, <Quantity(nan, 'meter / second')>, <Quantity(-4.45521958, 'meter / second')>, <Quantity(nan, 'meter / second')>, <Quantity(nan, 'meter / second')>, <Quantity(nan, 'meter / second')>, <Quantity(nan, 'meter / second')>, <Quantity(-16.7848202, 'meter / second')>, <Quantity(nan, 'meter / second')>, <Quantity(nan, 'meter / second')>, <Quantity(-34.0358854, 'meter / second')>, <Quantity(nan, 'meter / second')>, <Quantity(nan, 'meter / second')>, <Quantity(nan, 'meter / second')>, <Quantity(-54.1430006, 'meter / second')>, <Quantity(-62.1143969, 'meter / second')>, <Quantity(nan, 'meter / second')>, <Quantity(-56.5600988, 'meter / second')>, <Quantity(nan, 'meter / second')>, <Quantity(nan, 'meter / second')>, <Quantity(nan, 'meter / second')>, <Quantity(-46.1582556, 'meter / second')>, <Quantity(nan, 'meter / second')>, <Quantity(nan, 'meter / second')>, <Quantity(nan, 'meter / second')>, <Quantity(nan, 'meter / second')>, <Quantity(nan, 'meter / second')>, <Quantity(nan, 'meter / second')>, <Quantity(-48.8253845, 'meter / second')>, <Quantity(nan, 'meter / second')>, <Quantity(nan, 'meter / second')>, <Quantity(nan, 'meter / second')>, <Quantity(nan, 'meter / second')>, <Quantity(nan, 'meter / second')>, <Quantity(-37.0839232, 'meter / second')>, <Quantity(nan, 'meter / second')>, <Quantity(nan, 'meter / second')>, <Quantity(-35.2854141, 'meter / second')>, <Quantity(nan, 'meter / second')>, <Quantity(nan, 'meter / second')>, <Quantity(nan, 'meter / second')>, <Quantity(-42.5614293, 'meter / second')>, <Quantity(nan, 'meter / second')>, <Quantity(-41.8332228, 'meter / second')>, <Quantity(-40.3781542, 'meter / second')>, <Quantity(nan, 'meter / second')>]\n"
     ]
    }
   ],
   "source": [
    "for index in range(len(u)):\n",
    "    u[index] = u[index].to(units('m/s'))\n",
    "    v[index] = v[index].to(units('m/s'))\n",
    "print(f'{levelcode_subset},{pressure_subset},{hieght_subset},{tempc_subset},{dewc_subset},{u},{v}')"
   ]
  },
  {
   "cell_type": "markdown",
   "id": "b93037f8",
   "metadata": {},
   "source": [
    "### PRINT DATA ###\n",
    "Print the sounding location and the time of the sounding.\n",
    "\n",
    "Then for each 4 or 5 level-code level, print the pressure (in mb), height (in meters), temperature (in degrees Celsius), dewpoint temperature (in degrees Celsius), u and v wind components (in m/s) with commas separating each value.  Make sure to include units."
   ]
  },
  {
   "cell_type": "code",
   "execution_count": 40,
   "id": "5d171fd1",
   "metadata": {},
   "outputs": [
    {
     "name": "stdout",
     "output_type": "stream",
     "text": [
      "KBIS,2009-01-15 12:00:00\n",
      "4,1000.0 millibar,355.0 meter,nan degree_Celsius,nan degree_Celsius,nan meter / second,nan meter / second\n",
      "5,959.0 millibar,649.0 meter,-25.3 degree_Celsius,-28.8 degree_Celsius,nan meter / second,nan meter / second\n",
      "5,949.0 millibar,726.0 meter,-24.1 degree_Celsius,-27.6 degree_Celsius,nan meter / second,nan meter / second\n",
      "5,936.0 millibar,826.0 meter,-22.7 degree_Celsius,-28.7 degree_Celsius,nan meter / second,nan meter / second\n",
      "4,925.0 millibar,915.0 meter,-22.9 degree_Celsius,-28.9 degree_Celsius,2.9814910504789247 meter / second,-0.7988881192164461 meter / second\n",
      "5,898.0 millibar,1131.0 meter,-22.9 degree_Celsius,-28.9 degree_Celsius,nan meter / second,nan meter / second\n",
      "5,851.0 millibar,1526.0 meter,-21.3 degree_Celsius,-35.3 degree_Celsius,nan meter / second,nan meter / second\n",
      "4,850.0 millibar,1536.0 meter,-21.3 degree_Celsius,-35.3 degree_Celsius,2.5722222222222246 meter / second,-4.455219577246611 meter / second\n",
      "5,763.0 millibar,2328.0 meter,-22.5 degree_Celsius,-40.5 degree_Celsius,nan meter / second,nan meter / second\n",
      "5,730.0 millibar,2651.0 meter,-24.1 degree_Celsius,-41.1 degree_Celsius,nan meter / second,nan meter / second\n",
      "5,721.0 millibar,2741.0 meter,-23.1 degree_Celsius,-41.1 degree_Celsius,nan meter / second,nan meter / second\n",
      "5,707.0 millibar,2884.0 meter,-22.9 degree_Celsius,-41.9 degree_Celsius,nan meter / second,nan meter / second\n",
      "4,700.0 millibar,2961.0 meter,-23.3 degree_Celsius,-43.3 degree_Celsius,7.82689020743775 meter / second,-16.784820215918757 meter / second\n",
      "5,610.0 millibar,3960.0 meter,-25.9 degree_Celsius,-43.9 degree_Celsius,nan meter / second,nan meter / second\n",
      "5,510.0 millibar,5231.0 meter,-34.3 degree_Celsius,-52.3 degree_Celsius,nan meter / second,nan meter / second\n",
      "4,500.0 millibar,5370.0 meter,-34.5 degree_Celsius,-52.5 degree_Celsius,15.871194031748772 meter / second,-34.03588543783526 meter / second\n",
      "5,463.0 millibar,5906.0 meter,-34.5 degree_Celsius,-52.5 degree_Celsius,nan meter / second,nan meter / second\n",
      "5,423.0 millibar,6530.0 meter,-38.5 degree_Celsius,-53.5 degree_Celsius,nan meter / second,nan meter / second\n",
      "5,409.0 millibar,6761.0 meter,-38.7 degree_Celsius,-53.7 degree_Celsius,nan meter / second,nan meter / second\n",
      "4,400.0 millibar,6920.0 meter,-39.9 degree_Celsius,-54.9 degree_Celsius,19.70644061366208 meter / second,-54.143000603860074 meter / second\n",
      "4,300.0 millibar,8820.0 meter,-54.7 degree_Celsius,-66.7 degree_Celsius,16.643502483675984 meter / second,-62.114396884977594 meter / second\n",
      "5,255.0 millibar,9842.0 meter,-58.1 degree_Celsius,-69.1 degree_Celsius,nan meter / second,nan meter / second\n",
      "4,250.0 millibar,9970.0 meter,-58.3 degree_Celsius,-69.3 degree_Celsius,20.586192426771994 meter / second,-56.56009884510384 meter / second\n",
      "5,228.0 millibar,10548.0 meter,-58.5 degree_Celsius,-69.5 degree_Celsius,nan meter / second,nan meter / second\n",
      "5,214.0 millibar,10946.0 meter,-57.7 degree_Celsius,-68.7 degree_Celsius,nan meter / second,nan meter / second\n",
      "5,209.0 millibar,11095.0 meter,-56.5 degree_Celsius,-68.5 degree_Celsius,nan meter / second,nan meter / second\n",
      "4,200.0 millibar,11380.0 meter,-56.7 degree_Celsius,-68.7 degree_Celsius,21.523948070453812 meter / second,-46.15825559377659 meter / second\n",
      "5,192.0 millibar,11637.0 meter,-57.7 degree_Celsius,-69.7 degree_Celsius,nan meter / second,nan meter / second\n",
      "5,183.0 millibar,11939.0 meter,-57.5 degree_Celsius,-69.5 degree_Celsius,nan meter / second,nan meter / second\n",
      "5,175.0 millibar,12219.0 meter,-59.1 degree_Celsius,-70.1 degree_Celsius,nan meter / second,nan meter / second\n",
      "5,168.0 millibar,12474.0 meter,-59.7 degree_Celsius,-70.7 degree_Celsius,nan meter / second,nan meter / second\n",
      "5,163.0 millibar,12662.0 meter,-59.9 degree_Celsius,-70.9 degree_Celsius,nan meter / second,nan meter / second\n",
      "5,156.0 millibar,12936.0 meter,-58.7 degree_Celsius,-69.7 degree_Celsius,nan meter / second,nan meter / second\n",
      "4,150.0 millibar,13190.0 meter,-58.9 degree_Celsius,-69.9 degree_Celsius,17.77098662482027 meter / second,-48.82538447312382 meter / second\n",
      "5,141.0 millibar,13577.0 meter,-59.5 degree_Celsius,-70.5 degree_Celsius,nan meter / second,nan meter / second\n",
      "5,130.0 millibar,14084.0 meter,-59.1 degree_Celsius,-70.1 degree_Celsius,nan meter / second,nan meter / second\n",
      "5,111.0 millibar,15064.0 meter,-62.5 degree_Celsius,-73.5 degree_Celsius,nan meter / second,nan meter / second\n",
      "5,106.0 millibar,15348.0 meter,-61.9 degree_Celsius,-72.9 degree_Celsius,nan meter / second,nan meter / second\n",
      "5,104.0 millibar,15465.0 meter,-62.7 degree_Celsius,-73.7 degree_Celsius,nan meter / second,nan meter / second\n",
      "4,100.0 millibar,15710.0 meter,-61.7 degree_Celsius,-72.7 degree_Celsius,25.966442580763378 meter / second,-37.083923213900746 meter / second\n",
      "5,91.5 millibar,16259.0 meter,-61.5 degree_Celsius,-72.5 degree_Celsius,nan meter / second,nan meter / second\n",
      "5,78.4 millibar,17204.0 meter,-66.1 degree_Celsius,-76.1 degree_Celsius,nan meter / second,nan meter / second\n",
      "4,70.0 millibar,17900.0 meter,-65.9 degree_Celsius,-75.9 degree_Celsius,35.28541405541005 meter / second,-35.28541405541004 meter / second\n",
      "5,68.6 millibar,18022.0 meter,-65.9 degree_Celsius,-75.9 degree_Celsius,nan meter / second,nan meter / second\n",
      "5,57.6 millibar,19071.0 meter,-69.3 degree_Celsius,-79.3 degree_Celsius,nan meter / second,nan meter / second\n",
      "5,52.0 millibar,19680.0 meter,-69.1 degree_Celsius,-79.1 degree_Celsius,nan meter / second,nan meter / second\n",
      "4,50.0 millibar,19920.0 meter,-68.1 degree_Celsius,-78.1 degree_Celsius,35.713279594184144 meter / second,-42.56142925969041 meter / second\n",
      "5,47.2 millibar,20266.0 meter,-66.5 degree_Celsius,-76.5 degree_Celsius,nan meter / second,nan meter / second\n",
      "4,30.0 millibar,23000.0 meter,-67.9 degree_Celsius,-77.9 degree_Celsius,41.83322284919748 meter / second,-41.83322284919746 meter / second\n",
      "4,20.0 millibar,25420.0 meter,-69.5 degree_Celsius,-79.5 degree_Celsius,40.37815422835583 meter / second,-40.37815422835581 meter / second\n",
      "5,19.9 millibar,25450.0 meter,-69.5 degree_Celsius,-79.5 degree_Celsius,nan meter / second,nan meter / second\n"
     ]
    }
   ],
   "source": [
    "print(f'{station[0]},{UTC[0]}')\n",
    "for i in range(len(levelcode_subset)):\n",
    "    print(f'{levelcode_subset[i]},{pressure_subset[i]},{hieght_subset[i]},{tempc_subset[i]},{dewc_subset[i]},{u[i]},{v[i]}')"
   ]
  },
  {
   "cell_type": "markdown",
   "id": "4217c837",
   "metadata": {},
   "source": [
    "### SAVE TO CSV FILE ###\n",
    "Save to CSV without units.  The CSV file should be named KBIS_sounding.csv. Include the following header:\n",
    "\n",
    "{STATION} - {VALID UTC}<br>\n",
    "pressure[mb],height[m],temperature[degC],dewpoint[degC],u-wind[m/s],v-wind[m/s]\n",
    "\n",
    "Make sure that the winds are limited to 2 decimal places."
   ]
  },
  {
   "cell_type": "code",
   "execution_count": 45,
   "id": "0a123e09",
   "metadata": {},
   "outputs": [],
   "source": [
    "with open('KBIS_sounding.csv','w') as outfile:\n",
    "    outfile.write(f'{station[0]} - {UTC[0]}\\n')\n",
    "    outfile.write(f'pressure[mb],height[m],temperature[degC],dewpoint[degC],u-wind[m/s],v-wind[m/s]\\n')\n",
    "\n",
    "\n"
   ]
  },
  {
   "cell_type": "markdown",
   "id": "cccc9432",
   "metadata": {},
   "source": [
    "### OPEN THE CSV FILE IN NUMPY ###\n",
    "\n",
    "Here, we are going to use the numpy genfromtxt() function - np.genfromtxt()\n",
    "\n",
    "https://numpy.org/doc/stable/reference/generated/numpy.genfromtxt.html\n",
    "\n",
    "use the names press,height,temp,dwpt,u,v"
   ]
  },
  {
   "cell_type": "code",
   "execution_count": null,
   "id": "0db560cc",
   "metadata": {},
   "outputs": [],
   "source": []
  },
  {
   "cell_type": "markdown",
   "id": "717119e8",
   "metadata": {},
   "source": [
    "### RUN THE CELL BELOW ###\n",
    "If the code above was correct, it should print out the pressure as an array, then temperature as an array, and finally, u-wind component as an array - all with units.\n",
    "\n",
    "Note that the units are now outside the array instead of applied to each element as they were in the list."
   ]
  },
  {
   "cell_type": "code",
   "execution_count": null,
   "id": "2d50731a",
   "metadata": {},
   "outputs": [],
   "source": []
  },
  {
   "cell_type": "markdown",
   "id": "c73a0ad7",
   "metadata": {},
   "source": [
    "### OPEN THE CSV FILE IN PANDAS ###\n",
    "Now we are going to open the CSV file into a pandas dataframe.\n",
    "\n",
    "Dataframes are somewhat like arrays but a bit more complicated.\n",
    "\n",
    "Here, we will use the pandas.read_csv() function - pd.read_csv()\n",
    "\n",
    "Use the same names as above.\n",
    "\n",
    "https://pandas.pydata.org/docs/reference/api/pandas.read_csv.html"
   ]
  },
  {
   "cell_type": "code",
   "execution_count": null,
   "id": "3299a386",
   "metadata": {},
   "outputs": [],
   "source": []
  },
  {
   "cell_type": "markdown",
   "id": "6eeb0151",
   "metadata": {},
   "source": [
    "### NOW PRINT THE DATAFRAME ###\n",
    "If done correctly, you should see the column names auto-populated."
   ]
  },
  {
   "cell_type": "code",
   "execution_count": null,
   "id": "f053bec3",
   "metadata": {},
   "outputs": [],
   "source": []
  }
 ],
 "metadata": {
  "kernelspec": {
   "display_name": "Python 3 (ipykernel)",
   "language": "python",
   "name": "python3"
  },
  "language_info": {
   "codemirror_mode": {
    "name": "ipython",
    "version": 3
   },
   "file_extension": ".py",
   "mimetype": "text/x-python",
   "name": "python",
   "nbconvert_exporter": "python",
   "pygments_lexer": "ipython3",
   "version": "3.11.7"
  }
 },
 "nbformat": 4,
 "nbformat_minor": 5
}
