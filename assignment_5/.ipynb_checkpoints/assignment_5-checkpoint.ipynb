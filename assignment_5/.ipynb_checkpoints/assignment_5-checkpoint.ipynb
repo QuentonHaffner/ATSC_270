{
 "cells": [
  {
   "cell_type": "markdown",
   "id": "bd61f82f",
   "metadata": {},
   "source": [
    "# ASSIGNMENT #5 - UPPER AIR DATA #\n",
    "Due: 08 April 2024 @ 11:59p"
   ]
  },
  {
   "cell_type": "markdown",
   "id": "816b3dd4",
   "metadata": {},
   "source": [
    "Purpose:\\\n",
    "The purpose of this assignment is to first collect data from an online archive using a user-created function.  The data is then plotted on a map to continue to familiarize with plotting weather data on maps.  \n",
    "\n",
    "Overview:\\\n",
    "In this assignment you will read in rawinsonde observations in a function and plot that data.\n",
    "\n",
    "\n",
    "| | UPDATE TO YOUR INFORMATION | \n",
    "| :- | :- |\n",
    "| Created By | Jared W. Marquis |\n",
    "| Creation Date | 21 January 2024 |\n",
    "| Course | ATSC 270 - Computer Concepts in Meteorology |"
   ]
  },
  {
   "cell_type": "code",
   "execution_count": 1,
   "id": "eb870142",
   "metadata": {},
   "outputs": [],
   "source": [
    "### UPDATE TO YOUR INFORMATION ###\n",
    "#information allowing anyone with the code to print the author and contact information\n",
    "__author__    = \"Jared W. Marquis\"\n",
    "__contact__   = \"jared.marquis@und.edu\""
   ]
  },
  {
   "cell_type": "markdown",
   "id": "7dec3f1b",
   "metadata": {},
   "source": [
    "### IMPORT REQUIRED LIBRARIES ###"
   ]
  },
  {
   "cell_type": "code",
   "execution_count": 6,
   "id": "b4b5cb45",
   "metadata": {},
   "outputs": [],
   "source": [
    "import numpy as np\n",
    "from datetime import datetime\n",
    "\n",
    "from assignment_5_functions import get_raobs#, select_press\n",
    "\n",
    "import metpy.calc as mpcalc\n",
    "from metpy.units import units\n",
    "from metpy.plots import StationPlot\n",
    "from metpy.interpolate import interpolate_to_grid, remove_nan_observations\n",
    "\n",
    "import matplotlib.pyplot as plt\n",
    "\n",
    "import cartopy.crs as ccrs\n",
    "import cartopy.feature as cfeature"
   ]
  },
  {
   "cell_type": "markdown",
   "id": "1df8fe8f",
   "metadata": {},
   "source": [
    "### DOWNLOAD OBSERVATIONS FROM  FILE ###\n",
    "RAwinsonde OBservations (RAOBs) are available from the Iowa State Environmental Mesonet (IEM) archive.  This data can be accessed using the siphon module.  All this will be done within the assignment_5_functions file.  Note, RAOBs don't specify latitude/longitude so we need to add it using a metpy function -> *add_station_lat_lon(data)*."
   ]
  },
  {
   "cell_type": "code",
   "execution_count": 7,
   "id": "808daf73",
   "metadata": {},
   "outputs": [
    {
     "ename": "NameError",
     "evalue": "name 'IASateUpperAir' is not defined",
     "output_type": "error",
     "traceback": [
      "\u001b[0;31m---------------------------------------------------------------------------\u001b[0m",
      "\u001b[0;31mNameError\u001b[0m                                 Traceback (most recent call last)",
      "Cell \u001b[0;32mIn[7], line 3\u001b[0m\n\u001b[1;32m      1\u001b[0m \u001b[38;5;66;03m#grab data from 00Z on 26 December 2023\u001b[39;00m\n\u001b[1;32m      2\u001b[0m dt \u001b[38;5;241m=\u001b[39m datetime(\u001b[38;5;241m2023\u001b[39m,\u001b[38;5;241m12\u001b[39m,\u001b[38;5;241m26\u001b[39m,\u001b[38;5;241m0\u001b[39m)\n\u001b[0;32m----> 3\u001b[0m data \u001b[38;5;241m=\u001b[39m get_raobs(dt)\n\u001b[1;32m      4\u001b[0m \u001b[38;5;28mprint\u001b[39m(data)\n",
      "File \u001b[0;32m~/ATSC_270/assignment_5/assignment_5_functions.py:13\u001b[0m, in \u001b[0;36mget_raobs\u001b[0;34m(dt)\u001b[0m\n\u001b[1;32m     11\u001b[0m \u001b[38;5;28;01mdef\u001b[39;00m \u001b[38;5;21mget_raobs\u001b[39m(dt: datetime\u001b[38;5;241m.\u001b[39mdatetime) \u001b[38;5;241m-\u001b[39m\u001b[38;5;241m>\u001b[39m pandas\u001b[38;5;241m.\u001b[39mDataFrame:\n\u001b[1;32m     12\u001b[0m     \u001b[38;5;66;03m#collect data\u001b[39;00m\n\u001b[0;32m---> 13\u001b[0m     data \u001b[38;5;241m=\u001b[39m IASateUpperAir()\u001b[38;5;241m.\u001b[39mrequest_all_data(dt)\n\u001b[1;32m     14\u001b[0m     \u001b[38;5;66;03m# positions\u001b[39;00m\n\u001b[1;32m     15\u001b[0m     data \u001b[38;5;241m=\u001b[39m add_station_lat_lon(data)\n",
      "\u001b[0;31mNameError\u001b[0m: name 'IASateUpperAir' is not defined"
     ]
    }
   ],
   "source": [
    "#grab data from 00Z on 26 December 2023\n",
    "dt = datetime(2023,12,26,0)\n",
    "data = get_raobs(dt)\n",
    "print(data)"
   ]
  },
  {
   "cell_type": "markdown",
   "id": "e869f715",
   "metadata": {},
   "source": [
    "### SUBSET TO 500MB OBS ###\n",
    "We'll also do this within a function in the assignment_5_functions file."
   ]
  },
  {
   "cell_type": "code",
   "execution_count": null,
   "id": "90ef7d36",
   "metadata": {},
   "outputs": [],
   "source": []
  },
  {
   "cell_type": "markdown",
   "id": "433c0828",
   "metadata": {},
   "source": [
    "### PLOT DATA MAP ###\n",
    "Use the same map of CONUS as we did for the beginning of surface obs.<br>\n",
    "No need to thin obs as there aren't a ton of RAOBs."
   ]
  },
  {
   "cell_type": "code",
   "execution_count": null,
   "id": "bd3f91d8",
   "metadata": {},
   "outputs": [],
   "source": [
    "\n",
    "#temperature in red\n",
    "\n",
    "#dewpoint DEPRESSION in dark green\n",
    "\n",
    "#height (need to format to be the first 3 digits)\n",
    "\n",
    "#station ID in dark blue\n",
    "\n",
    "#wind in black\n",
    "\n",
    "#save the map as upper_air_500.png\n"
   ]
  },
  {
   "cell_type": "markdown",
   "id": "849f6f41",
   "metadata": {},
   "source": [
    "### CREATE 500mb HEIGHT CONTOURS (ISOHYPSES) ###"
   ]
  },
  {
   "cell_type": "code",
   "execution_count": null,
   "id": "77fabd62",
   "metadata": {},
   "outputs": [],
   "source": [
    "#convert the data to x, y, and z locations on the projected map\n",
    "\n",
    "#remove nans\n",
    "\n",
    "#interpolate the data to a grid\n"
   ]
  },
  {
   "cell_type": "markdown",
   "id": "eb2ab22a",
   "metadata": {},
   "source": [
    "### PLOT UPPER AIR STATION PLOTS & CONTOURS ###"
   ]
  },
  {
   "cell_type": "code",
   "execution_count": null,
   "id": "671abac0",
   "metadata": {},
   "outputs": [],
   "source": [
    "\n",
    "#temperature in red\n",
    "\n",
    "#dewpoint DEPRESSION in dark green\n",
    "\n",
    "#height (need to format to be the first 3 digits)\n",
    "\n",
    "#station ID in dark blue\n",
    "\n",
    "#wind in black\n",
    "\n",
    "\n",
    "#plot contours from 4600m to 6000m with 60m interval\n",
    "\n",
    "#add a title with the date\n",
    "\n",
    "\n",
    "#save the map as contour_500.png\n"
   ]
  },
  {
   "cell_type": "code",
   "execution_count": null,
   "id": "73508f99",
   "metadata": {},
   "outputs": [],
   "source": []
  }
 ],
 "metadata": {
  "kernelspec": {
   "display_name": "Python 3 (ipykernel)",
   "language": "python",
   "name": "python3"
  },
  "language_info": {
   "codemirror_mode": {
    "name": "ipython",
    "version": 3
   },
   "file_extension": ".py",
   "mimetype": "text/x-python",
   "name": "python",
   "nbconvert_exporter": "python",
   "pygments_lexer": "ipython3",
   "version": "3.11.7"
  }
 },
 "nbformat": 4,
 "nbformat_minor": 5
}
